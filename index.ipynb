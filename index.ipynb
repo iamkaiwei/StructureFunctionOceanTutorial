{
 "cells": [
  {
   "cell_type": "markdown",
   "metadata": {},
   "source": [
    "# Introduction to microbiome analysis\n",
    "\n",
    "This is a tutorial based on the [data](http://ocean-microbiome.embl.de/) from the paper [\"Structure and function of the global ocean microbiome\". Sunagawa, Coelho, Chaffron, et al., Science, 2015](http://www.sciencemag.org/content/348/6237/1261359.long)."
   ]
  },
  {
   "cell_type": "markdown",
   "metadata": {},
   "source": [
    "## Hello World\n",
    "\n",
    "You can run this *cell* by typing CTRL+ENTER or from the menu."
   ]
  },
  {
   "cell_type": "code",
   "execution_count": null,
   "metadata": {
    "collapsed": false
   },
   "outputs": [],
   "source": [
    "print(\"Hello World\")"
   ]
  },
  {
   "cell_type": "markdown",
   "metadata": {},
   "source": [
    "You can run the cells out of order, but **variables** are preserved.\n",
    "\n",
    "Another way of saying it is that you are manipulating an environment underneath"
   ]
  },
  {
   "cell_type": "code",
   "execution_count": null,
   "metadata": {
    "collapsed": true
   },
   "outputs": [],
   "source": [
    "name = \"Luis\""
   ]
  },
  {
   "cell_type": "code",
   "execution_count": null,
   "metadata": {
    "collapsed": false
   },
   "outputs": [],
   "source": [
    "print(\"Hello {}\".format(name))"
   ]
  },
  {
   "cell_type": "markdown",
   "metadata": {},
   "source": [
    "## Some basic imports\n",
    "\n",
    "These are general imports for data analysis in Python"
   ]
  },
  {
   "cell_type": "code",
   "execution_count": null,
   "metadata": {
    "collapsed": false
   },
   "outputs": [],
   "source": [
    "import pandas as pd\n",
    "from matplotlib import pyplot as plt\n",
    "import numpy as np"
   ]
  },
  {
   "cell_type": "markdown",
   "metadata": {},
   "source": [
    "A magic command to make plots appear *inline*:"
   ]
  },
  {
   "cell_type": "code",
   "execution_count": null,
   "metadata": {
    "collapsed": true
   },
   "outputs": [],
   "source": [
    "%matplotlib inline"
   ]
  },
  {
   "cell_type": "markdown",
   "metadata": {},
   "source": [
    "Another two to make them look nicer"
   ]
  },
  {
   "cell_type": "code",
   "execution_count": null,
   "metadata": {
    "collapsed": true
   },
   "outputs": [],
   "source": [
    "from matplotlib import style\n",
    "style.use('bmh')"
   ]
  },
  {
   "cell_type": "markdown",
   "metadata": {},
   "source": [
    "### Load the data"
   ]
  },
  {
   "cell_type": "markdown",
   "metadata": {},
   "source": [
    "Load the metadata (sheet index 8 is the right one). The original data is at [http://ocean-microbiome.embl.de/companion.html](http://ocean-microbiome.embl.de/companion.html). A copy is shipped with this tutorial for convenience"
   ]
  },
  {
   "cell_type": "code",
   "execution_count": null,
   "metadata": {
    "collapsed": false
   },
   "outputs": [],
   "source": [
    "meta = pd.read_excel('./data/OM.CompanionTables.xlsx', sheetname=8, index_col=0)"
   ]
  },
  {
   "cell_type": "markdown",
   "metadata": {},
   "source": [
    "Evaluating a cell with just a single object results in this object being displayed:"
   ]
  },
  {
   "cell_type": "code",
   "execution_count": null,
   "metadata": {
    "collapsed": false,
    "scrolled": false
   },
   "outputs": [],
   "source": [
    "meta"
   ]
  },
  {
   "cell_type": "markdown",
   "metadata": {},
   "source": [
    "Remove the non-mod_data lines at the bottom"
   ]
  },
  {
   "cell_type": "code",
   "execution_count": null,
   "metadata": {
    "collapsed": false
   },
   "outputs": [],
   "source": [
    "meta = meta.select(lambda ix: ix.startswith('TARA'))"
   ]
  },
  {
   "cell_type": "markdown",
   "metadata": {},
   "source": [
    "Now, we need to do some ID manipulation\n",
    "\n",
    "(Let's look at the tables in the supplement first, before we look at this obscure code)"
   ]
  },
  {
   "cell_type": "code",
   "execution_count": null,
   "metadata": {
    "collapsed": true
   },
   "outputs": [],
   "source": [
    "samples = pd.read_excel('./data/OM.CompanionTables.xlsx', sheetname=1)\n",
    "samples.index = samples['PANGAEA sample identifier']\n",
    "samples_label = samples['Sample label [TARA_station#_environmental-feature_size-fraction]']\n",
    "meta.index = samples_label.reindex(meta.index)"
   ]
  },
  {
   "cell_type": "code",
   "execution_count": null,
   "metadata": {
    "collapsed": false
   },
   "outputs": [],
   "source": [
    "samples"
   ]
  },
  {
   "cell_type": "markdown",
   "metadata": {},
   "source": [
    "### First look: just basic correlations between the metadata\n",
    "\n",
    "Let us look at the relationship between temperature and alpha diversity"
   ]
  },
  {
   "cell_type": "code",
   "execution_count": null,
   "metadata": {
    "collapsed": false
   },
   "outputs": [],
   "source": [
    "fig,ax = plt.subplots()\n",
    "ax.scatter(meta['Mean_Temperature [deg C]*'], meta['miTAG.SILVA.Shannon'])"
   ]
  },
  {
   "cell_type": "markdown",
   "metadata": {},
   "source": [
    "We can also compute a Spearman correlation to quantify the relationship:"
   ]
  },
  {
   "cell_type": "code",
   "execution_count": null,
   "metadata": {
    "collapsed": false
   },
   "outputs": [],
   "source": [
    "from scipy import stats\n",
    "stats.spearmanr(meta['Mean_Temperature [deg C]*'], meta['miTAG.SILVA.Shannon'])"
   ]
  },
  {
   "cell_type": "markdown",
   "metadata": {},
   "source": [
    "Hmmm, we are mixing apples and oranges..."
   ]
  },
  {
   "cell_type": "code",
   "execution_count": null,
   "metadata": {
    "collapsed": true
   },
   "outputs": [],
   "source": [
    "meta_prok = meta.select(lambda ix: ('0.22-3' in ix or '0.22-1.6' in ix))\n",
    "meta_prok_srf = meta_prok.select(lambda ix: '_SRF_' in ix)"
   ]
  },
  {
   "cell_type": "markdown",
   "metadata": {},
   "source": [
    "Now, redo the correlation:"
   ]
  },
  {
   "cell_type": "code",
   "execution_count": null,
   "metadata": {
    "collapsed": false
   },
   "outputs": [],
   "source": [
    "fig,ax = plt.subplots()\n",
    "ax.scatter(meta_prok_srf['Mean_Temperature [deg C]*'], meta_prok_srf['miTAG.SILVA.Shannon'], s=30)\n",
    "print(stats.spearmanr(meta_prok_srf['Mean_Temperature [deg C]*'], meta_prok_srf['miTAG.SILVA.Shannon']))"
   ]
  },
  {
   "cell_type": "markdown",
   "metadata": {},
   "source": [
    "## Shannon vs Richness?\n",
    "\n",
    "We have looked at alpha diversity using the Shannon index, but there are other options. Would it make a big difference?"
   ]
  },
  {
   "cell_type": "code",
   "execution_count": null,
   "metadata": {
    "collapsed": false
   },
   "outputs": [],
   "source": [
    "fig,ax = plt.subplots()\n",
    "ax.scatter(meta_prok_srf['miTAG.SILVA.Taxo.Richness'], meta_prok_srf['miTAG.SILVA.Shannon'], s=30)\n",
    "print(stats.spearmanr(meta_prok_srf['miTAG.SILVA.Taxo.Richness'], meta_prok_srf['miTAG.SILVA.Shannon']))"
   ]
  },
  {
   "cell_type": "markdown",
   "metadata": {},
   "source": [
    "# Analysis of function\n",
    "\n",
    "Let's now look at the functional tables, in particular at KEGG modules"
   ]
  },
  {
   "cell_type": "code",
   "execution_count": null,
   "metadata": {
    "collapsed": true
   },
   "outputs": [],
   "source": [
    "mod_data = pd.read_table('./data/TARA243.KO-module.profile.release', index_col=0)\n",
    "print(mod_data)"
   ]
  },
  {
   "cell_type": "markdown",
   "metadata": {},
   "source": [
    "We need to normalize the data:"
   ]
  },
  {
   "cell_type": "code",
   "execution_count": null,
   "metadata": {
    "collapsed": true
   },
   "outputs": [],
   "source": [
    "mod_data = (mod_data /mod_data.sum())\n",
    "mod_data = mod_data.T\n",
    "mod_data = mod_data.reindex(meta.index)"
   ]
  },
  {
   "cell_type": "code",
   "execution_count": null,
   "metadata": {
    "collapsed": true
   },
   "outputs": [],
   "source": [
    "data_prok_srf = mod_data.reindex(meta_prok_srf.index)"
   ]
  },
  {
   "cell_type": "markdown",
   "metadata": {},
   "source": [
    "### Let's look at photosynthesis\n",
    "Module 161 is [Photosystem II](http://www.genome.jp/kegg-bin/show_module?M00161)"
   ]
  },
  {
   "cell_type": "code",
   "execution_count": null,
   "metadata": {
    "collapsed": false
   },
   "outputs": [],
   "source": [
    "fig,ax = plt.subplots()\n",
    "ax.scatter(meta_prok_srf['Mean_Temperature [deg C]*'], data_prok_srf['M00161'])\n",
    "stats.spearmanr(meta_prok_srf['Mean_Temperature [deg C]*'], data_prok_srf['M00161'])"
   ]
  },
  {
   "cell_type": "markdown",
   "metadata": {},
   "source": [
    "We should take the logarithm for display purposes"
   ]
  },
  {
   "cell_type": "code",
   "execution_count": null,
   "metadata": {
    "collapsed": false
   },
   "outputs": [],
   "source": [
    "fig,ax = plt.subplots()\n",
    "ax.scatter(meta_prok_srf['Mean_Temperature [deg C]*'], np.log10(data_prok_srf['M00161']))\n",
    "stats.spearmanr(meta_prok_srf['Mean_Temperature [deg C]*'], np.log10(data_prok_srf['M00161']))"
   ]
  },
  {
   "cell_type": "markdown",
   "metadata": {},
   "source": [
    "What about the taxonomy?"
   ]
  },
  {
   "cell_type": "code",
   "execution_count": null,
   "metadata": {
    "collapsed": false
   },
   "outputs": [],
   "source": [
    "miTags = pd.read_table('./data/miTAG.taxonomic.profiles.release.tsv', index_col=0)"
   ]
  },
  {
   "cell_type": "markdown",
   "metadata": {},
   "source": [
    "Let's look at the data:"
   ]
  },
  {
   "cell_type": "code",
   "execution_count": null,
   "metadata": {
    "collapsed": false
   },
   "outputs": [],
   "source": [
    "miTags"
   ]
  },
  {
   "cell_type": "markdown",
   "metadata": {},
   "source": [
    "We need to perform some \"data wrangling\" (a lot of data analysis is just data wrangling):"
   ]
  },
  {
   "cell_type": "code",
   "execution_count": null,
   "metadata": {
    "collapsed": true
   },
   "outputs": [],
   "source": [
    "miTags = miTags.T\n",
    "miTags = miTags.select(lambda ix: ix.startswith('TARA'))\n",
    "miTags = miTags.astype(float) # It simplifies the downstream code"
   ]
  },
  {
   "cell_type": "code",
   "execution_count": null,
   "metadata": {
    "collapsed": false,
    "scrolled": true
   },
   "outputs": [],
   "source": [
    "miTags"
   ]
  },
  {
   "cell_type": "markdown",
   "metadata": {},
   "source": [
    "We need to normalize the data (some magicky code)"
   ]
  },
  {
   "cell_type": "code",
   "execution_count": null,
   "metadata": {
    "collapsed": false
   },
   "outputs": [],
   "source": [
    "miTags  = (miTags.T/ miTags.sum(1)).T"
   ]
  },
  {
   "cell_type": "markdown",
   "metadata": {},
   "source": [
    "# PCA Plot\n",
    "\n",
    "Do you remember what a PCA is?"
   ]
  },
  {
   "cell_type": "code",
   "execution_count": null,
   "metadata": {
    "collapsed": true
   },
   "outputs": [],
   "source": [
    "from sklearn import decomposition\n",
    "pca = decomposition.PCA(2)"
   ]
  },
  {
   "cell_type": "code",
   "execution_count": null,
   "metadata": {
    "collapsed": false
   },
   "outputs": [],
   "source": [
    "pca_decomp = pca.fit_transform(miTags)"
   ]
  },
  {
   "cell_type": "code",
   "execution_count": null,
   "metadata": {
    "collapsed": false
   },
   "outputs": [],
   "source": [
    "pca_decomp"
   ]
  },
  {
   "cell_type": "code",
   "execution_count": null,
   "metadata": {
    "collapsed": false
   },
   "outputs": [],
   "source": [
    "fig,ax = plt.subplots()\n",
    "ax.scatter(pca_decomp[:,0], pca_decomp[:,1])"
   ]
  },
  {
   "cell_type": "code",
   "execution_count": null,
   "metadata": {
    "collapsed": false
   },
   "outputs": [],
   "source": [
    "pca_decomp = pca.fit_transform(miTags.reindex(index=meta_prok.index))\n",
    "depths = []\n",
    "for ix in meta_prok.index:\n",
    "    depths.append(ix.split('_')[2])\n",
    "print(depths)"
   ]
  },
  {
   "cell_type": "code",
   "execution_count": null,
   "metadata": {
    "collapsed": false
   },
   "outputs": [],
   "source": [
    "depths = pd.Categorical(depths)\n",
    "print(depths.codes)"
   ]
  },
  {
   "cell_type": "code",
   "execution_count": null,
   "metadata": {
    "collapsed": false
   },
   "outputs": [],
   "source": [
    "colors = [\"rgbk\"[dc] for dc in depths.codes]\n",
    "fig,ax = plt.subplots()\n",
    "ax.scatter(pca_decomp[:,0], pca_decomp[:,1], c=colors)"
   ]
  },
  {
   "cell_type": "code",
   "execution_count": null,
   "metadata": {
    "collapsed": false
   },
   "outputs": [],
   "source": [
    "pca_decomp = pca.fit_transform(np.log10(miTags.reindex(index=meta_prok.index) + 1e-6))\n",
    "\n",
    "fig,ax = plt.subplots()\n",
    "ax.scatter(pca_decomp[:,0], pca_decomp[:,1], c=colors, s=20)"
   ]
  },
  {
   "cell_type": "markdown",
   "metadata": {},
   "source": [
    "What about the relationship between biodiversity and the temperature/latitude?"
   ]
  },
  {
   "cell_type": "code",
   "execution_count": null,
   "metadata": {
    "collapsed": false
   },
   "outputs": [],
   "source": [
    "shannon = stats.entropy(miTags.T)\n",
    "fig,ax = plt.subplots()\n",
    "ax.scatter(meta_prok['Mean_Temperature [deg C]*'],shannon,  c=colors, s=20)"
   ]
  },
  {
   "cell_type": "code",
   "execution_count": null,
   "metadata": {
    "collapsed": false
   },
   "outputs": [],
   "source": [
    "from matplotlib import cm\n",
    "miTags_srf = miTags.reindex(index=meta_prok_srf.index)\n",
    "shannon_srf = shannon = stats.entropy(miTags_srf.T)\n",
    "fig,ax = plt.subplots()\n",
    "ax.scatter(meta_prok_srf['Mean_Temperature [deg C]*'], shannon_srf, c=np.abs(meta_prok_srf['Mean_Lat*']),  cmap=cm.RdBu, s=120)"
   ]
  },
  {
   "cell_type": "markdown",
   "metadata": {},
   "source": [
    "# Final Demonstration of interactive exploration\n",
    "\n",
    "I am going to present this without comments"
   ]
  },
  {
   "cell_type": "code",
   "execution_count": null,
   "metadata": {
    "collapsed": false
   },
   "outputs": [],
   "source": [
    "#from IPython.html.widgets import interact\n",
    "from ipywidgets import interact\n",
    "\n",
    "@interact(col1=list(meta.columns)[1:], col2=list(meta.columns)[1:], just_srf=True)\n",
    "def cross(col1, col2, just_srf):\n",
    "    if just_srf:\n",
    "        data = meta_prok_srf\n",
    "    else:\n",
    "        data = meta_prok\n",
    "\n",
    "    fig,ax = plt.subplots()\n",
    "    ax.scatter(data[col1], data[col2])\n",
    "    ax.set_xlabel(col1)\n",
    "    ax.set_ylabel(col2)\n",
    "    print(stats.spearmanr(data[col1], data[col2]))"
   ]
  },
  {
   "cell_type": "markdown",
   "metadata": {},
   "source": [
    "# More information on the tools we used\n",
    "\n",
    "Note that none of these are actually specific to metaomics, they are just data analysis tools\n",
    "\n",
    "- https://jupyter.org/\n",
    "- http://www.numpy.org/\n",
    "- http://pandas.pydata.org\n",
    "- http://scikit-learn.org\n"
   ]
  }
 ],
 "metadata": {
  "kernelspec": {
   "display_name": "Python 2",
   "language": "python",
   "name": "python2"
  },
  "language_info": {
   "codemirror_mode": {
    "name": "ipython",
    "version": 2
   },
   "file_extension": ".py",
   "mimetype": "text/x-python",
   "name": "python",
   "nbconvert_exporter": "python",
   "pygments_lexer": "ipython2",
   "version": "2.7.11"
  }
 },
 "nbformat": 4,
 "nbformat_minor": 0
}
